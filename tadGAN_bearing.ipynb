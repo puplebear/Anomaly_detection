{
 "cells": [
  {
   "cell_type": "code",
   "execution_count": 79,
   "metadata": {},
   "outputs": [
    {
     "name": "stdout",
     "output_type": "stream",
     "text": [
      "The autoreload extension is already loaded. To reload it, use:\n",
      "  %reload_ext autoreload\n"
     ]
    },
    {
     "data": {
      "text/html": [
       "<div>\n",
       "<style scoped>\n",
       "    .dataframe tbody tr th:only-of-type {\n",
       "        vertical-align: middle;\n",
       "    }\n",
       "\n",
       "    .dataframe tbody tr th {\n",
       "        vertical-align: top;\n",
       "    }\n",
       "\n",
       "    .dataframe thead th {\n",
       "        text-align: right;\n",
       "    }\n",
       "</style>\n",
       "<table border=\"1\" class=\"dataframe\">\n",
       "  <thead>\n",
       "    <tr style=\"text-align: right;\">\n",
       "      <th></th>\n",
       "      <th>Bearing 1</th>\n",
       "      <th>Bearing 2</th>\n",
       "      <th>Bearing 3</th>\n",
       "      <th>Bearing 4</th>\n",
       "    </tr>\n",
       "  </thead>\n",
       "  <tbody>\n",
       "    <tr>\n",
       "      <th>2004.02.16.16.22.39</th>\n",
       "      <td>0.073814</td>\n",
       "      <td>0.074713</td>\n",
       "      <td>0.075640</td>\n",
       "      <td>0.044425</td>\n",
       "    </tr>\n",
       "    <tr>\n",
       "      <th>2004.02.15.16.42.39</th>\n",
       "      <td>0.059662</td>\n",
       "      <td>0.073159</td>\n",
       "      <td>0.075952</td>\n",
       "      <td>0.042869</td>\n",
       "    </tr>\n",
       "    <tr>\n",
       "      <th>2004.02.17.16.52.39</th>\n",
       "      <td>0.092946</td>\n",
       "      <td>0.078138</td>\n",
       "      <td>0.077772</td>\n",
       "      <td>0.050036</td>\n",
       "    </tr>\n",
       "    <tr>\n",
       "      <th>2004.02.15.12.22.39</th>\n",
       "      <td>0.060525</td>\n",
       "      <td>0.074383</td>\n",
       "      <td>0.078142</td>\n",
       "      <td>0.044174</td>\n",
       "    </tr>\n",
       "    <tr>\n",
       "      <th>2004.02.17.02.42.39</th>\n",
       "      <td>0.078344</td>\n",
       "      <td>0.074184</td>\n",
       "      <td>0.079004</td>\n",
       "      <td>0.046181</td>\n",
       "    </tr>\n",
       "  </tbody>\n",
       "</table>\n",
       "</div>"
      ],
      "text/plain": [
       "                     Bearing 1  Bearing 2  Bearing 3  Bearing 4\n",
       "2004.02.16.16.22.39   0.073814   0.074713   0.075640   0.044425\n",
       "2004.02.15.16.42.39   0.059662   0.073159   0.075952   0.042869\n",
       "2004.02.17.16.52.39   0.092946   0.078138   0.077772   0.050036\n",
       "2004.02.15.12.22.39   0.060525   0.074383   0.078142   0.044174\n",
       "2004.02.17.02.42.39   0.078344   0.074184   0.079004   0.046181"
      ]
     },
     "execution_count": 79,
     "metadata": {},
     "output_type": "execute_result"
    }
   ],
   "source": [
    "# import libraries\n",
    "import os\n",
    "import pandas as pd\n",
    "import numpy as np\n",
    "import time\n",
    "import datetime\n",
    "\n",
    "from sklearn.preprocessing import MinMaxScaler\n",
    "from sklearn.impute import SimpleImputer\n",
    "# from sklearn.externals import joblib\n",
    "import seaborn as sns\n",
    "sns.set(color_codes=True)\n",
    "import matplotlib.pyplot as plt\n",
    "%matplotlib inline\n",
    "\n",
    "%load_ext autoreload\n",
    "%autoreload 2\n",
    "from fortadGAN.fortadGAN_utils import score_anomalies, reconstruction_errors\n",
    "from fortadGAN.fortadGAN_layers import build_encoder_layer, build_generator_layer, build_critic_x_layer, build_critic_z_layer, wasserstein_loss\n",
    "from fortadGAN.fortadGAN_preproc import time_segments_aggregate, rolling_window_sequences\n",
    "\n",
    "\n",
    "import tensorflow as tf\n",
    "import logging\n",
    "import math\n",
    "from numpy.random import seed\n",
    "# from tensorflow import set_random_seed\n",
    "# tf.logging.set_verbosity(tf.logging.ERROR)\n",
    "\n",
    "\n",
    "from keras.layers import Input, Dropout, Dense, LSTM, TimeDistributed, RepeatVector\n",
    "from keras.models import Model\n",
    "from keras import regularizers\n",
    "\n",
    "\n",
    "# load, average and merge sensor samples\n",
    "data_dir = 'data'\n",
    "merged_data = pd.DataFrame()\n",
    "\n",
    "for filename in os.listdir(data_dir):\n",
    "    dataset = pd.read_csv(os.path.join(data_dir, filename), sep='\\t')\n",
    "    dataset_mean_abs = np.array(dataset.abs().mean())\n",
    "    dataset_mean_abs = pd.DataFrame(dataset_mean_abs.reshape(1,4))\n",
    "    dataset_mean_abs.index = [filename]\n",
    "    merged_data = merged_data.append(dataset_mean_abs)\n",
    "    \n",
    "merged_data.columns = ['Bearing 1', 'Bearing 2', 'Bearing 3', 'Bearing 4']\n",
    "merged_data.head()"
   ]
  },
  {
   "cell_type": "code",
   "execution_count": 80,
   "metadata": {},
   "outputs": [
    {
     "name": "stdout",
     "output_type": "stream",
     "text": [
      "<class 'pandas.core.frame.DataFrame'>\n",
      "Index: 982 entries, 2004.02.16.16.22.39 to 2004.02.15.09.42.39\n",
      "Data columns (total 4 columns):\n",
      " #   Column     Non-Null Count  Dtype  \n",
      "---  ------     --------------  -----  \n",
      " 0   Bearing 1  982 non-null    float64\n",
      " 1   Bearing 2  982 non-null    float64\n",
      " 2   Bearing 3  982 non-null    float64\n",
      " 3   Bearing 4  982 non-null    float64\n",
      "dtypes: float64(4)\n",
      "memory usage: 38.4+ KB\n"
     ]
    }
   ],
   "source": [
    "merged_data.info()"
   ]
  },
  {
   "cell_type": "code",
   "execution_count": 81,
   "metadata": {},
   "outputs": [],
   "source": [
    "merged_data.index = pd.to_datetime(merged_data.index, format='%Y.%m.%d.%H.%M.%S')\n",
    "merged_data = merged_data.sort_index()\n",
    "train = merged_data['2004-02-12 10:52:39': '2004-02-15 12:52:39']\n",
    "test = merged_data['2004-02-15 12:52:39':]\n"
   ]
  },
  {
   "cell_type": "code",
   "execution_count": 82,
   "metadata": {},
   "outputs": [
    {
     "data": {
      "text/html": [
       "<div>\n",
       "<style scoped>\n",
       "    .dataframe tbody tr th:only-of-type {\n",
       "        vertical-align: middle;\n",
       "    }\n",
       "\n",
       "    .dataframe tbody tr th {\n",
       "        vertical-align: top;\n",
       "    }\n",
       "\n",
       "    .dataframe thead th {\n",
       "        text-align: right;\n",
       "    }\n",
       "</style>\n",
       "<table border=\"1\" class=\"dataframe\">\n",
       "  <thead>\n",
       "    <tr style=\"text-align: right;\">\n",
       "      <th></th>\n",
       "      <th>timestamp</th>\n",
       "      <th>Bearing 1</th>\n",
       "      <th>Bearing 2</th>\n",
       "      <th>Bearing 3</th>\n",
       "      <th>Bearing 4</th>\n",
       "    </tr>\n",
       "  </thead>\n",
       "  <tbody>\n",
       "    <tr>\n",
       "      <th>0</th>\n",
       "      <td>1076550759</td>\n",
       "      <td>0.060236</td>\n",
       "      <td>0.074227</td>\n",
       "      <td>0.083926</td>\n",
       "      <td>0.044443</td>\n",
       "    </tr>\n",
       "    <tr>\n",
       "      <th>1</th>\n",
       "      <td>1076551359</td>\n",
       "      <td>0.061455</td>\n",
       "      <td>0.073844</td>\n",
       "      <td>0.084457</td>\n",
       "      <td>0.045081</td>\n",
       "    </tr>\n",
       "    <tr>\n",
       "      <th>2</th>\n",
       "      <td>1076551959</td>\n",
       "      <td>0.061361</td>\n",
       "      <td>0.075609</td>\n",
       "      <td>0.082837</td>\n",
       "      <td>0.045118</td>\n",
       "    </tr>\n",
       "    <tr>\n",
       "      <th>3</th>\n",
       "      <td>1076552559</td>\n",
       "      <td>0.061665</td>\n",
       "      <td>0.073279</td>\n",
       "      <td>0.084879</td>\n",
       "      <td>0.044172</td>\n",
       "    </tr>\n",
       "    <tr>\n",
       "      <th>4</th>\n",
       "      <td>1076553159</td>\n",
       "      <td>0.061944</td>\n",
       "      <td>0.074593</td>\n",
       "      <td>0.082626</td>\n",
       "      <td>0.044659</td>\n",
       "    </tr>\n",
       "  </tbody>\n",
       "</table>\n",
       "</div>"
      ],
      "text/plain": [
       "    timestamp  Bearing 1  Bearing 2  Bearing 3  Bearing 4\n",
       "0  1076550759   0.060236   0.074227   0.083926   0.044443\n",
       "1  1076551359   0.061455   0.073844   0.084457   0.045081\n",
       "2  1076551959   0.061361   0.075609   0.082837   0.045118\n",
       "3  1076552559   0.061665   0.073279   0.084879   0.044172\n",
       "4  1076553159   0.061944   0.074593   0.082626   0.044659"
      ]
     },
     "execution_count": 82,
     "metadata": {},
     "output_type": "execute_result"
    }
   ],
   "source": [
    "df = merged_data.rename_axis('timestamp').reset_index()\n",
    "\n",
    "converted = list()\n",
    "for t in df['timestamp']:\n",
    "    timestamp = time.mktime(t.timetuple())\n",
    "    converted.append(int(timestamp))\n",
    "\n",
    "df['timestamp'] = converted\n",
    "\n",
    "df.head()\n",
    "\n",
    "# merged_data.rename_axis('timestamp').reset_index()\n",
    "# merged_data.head()"
   ]
  },
  {
   "cell_type": "code",
   "execution_count": 83,
   "metadata": {},
   "outputs": [
    {
     "name": "stdout",
     "output_type": "stream",
     "text": [
      "<class 'pandas.core.frame.DataFrame'>\n",
      "RangeIndex: 982 entries, 0 to 981\n",
      "Data columns (total 5 columns):\n",
      " #   Column     Non-Null Count  Dtype  \n",
      "---  ------     --------------  -----  \n",
      " 0   timestamp  982 non-null    int64  \n",
      " 1   Bearing 1  982 non-null    float64\n",
      " 2   Bearing 2  982 non-null    float64\n",
      " 3   Bearing 3  982 non-null    float64\n",
      " 4   Bearing 4  982 non-null    float64\n",
      "dtypes: float64(4), int64(1)\n",
      "memory usage: 38.5 KB\n"
     ]
    }
   ],
   "source": [
    "df.info()"
   ]
  },
  {
   "cell_type": "code",
   "execution_count": null,
   "metadata": {},
   "outputs": [],
   "source": [
    "# test_tsa = df.sort_values('timestamp').set_index('timestamp')\n",
    "# start_ts = test_tsa.index.values[0]\n",
    "# max_ts = test_tsa.index.values[-1]\n",
    "# # print(start_ts)\n",
    "# # print(max_ts)\n",
    "\n",
    "# values = list()\n",
    "# index = list()\n",
    "# num = 0\n",
    "# while start_ts <= max_ts:\n",
    "#         end_ts = start_ts + 600\n",
    "#         subset = test_tsa.loc[start_ts:end_ts - 1]\n",
    "#         # subset = test_tsa.loc[start_ts:end_ts]\n",
    "#         print(subset.shape)\n",
    "#         # aggregated = [\n",
    "#         #     getattr(subset, agg)(skipna=True).values\n",
    "#         #     for agg in ['mean']\n",
    "#         # ]\n",
    "#         # values.append(np.concatenate(aggregated))\n",
    "#         # index.append(start_ts)\n",
    "#         start_ts = end_ts\n",
    "#         num+=1\n",
    "#         print(num)"
   ]
  },
  {
   "cell_type": "code",
   "execution_count": 90,
   "metadata": {},
   "outputs": [
    {
     "name": "stdout",
     "output_type": "stream",
     "text": [
      "982\n",
      "982\n",
      "Training data input shape: (883, 100, 4)\n",
      "Training y shape: (883,)\n"
     ]
    },
    {
     "name": "stderr",
     "output_type": "stream",
     "text": [
      "/home/rain/anaconda3/envs/tf2/lib/python3.6/site-packages/numpy/core/_asarray.py:83: VisibleDeprecationWarning: Creating an ndarray from ragged nested sequences (which is a list-or-tuple of lists-or-tuples-or ndarrays with different lengths or shapes) is deprecated. If you meant to do this, you must specify 'dtype=object' when creating the ndarray\n",
      "  return array(a, dtype, copy=False, order=order)\n"
     ]
    }
   ],
   "source": [
    "# 전처리 \n",
    "X, index = time_segments_aggregate(df, interval=600, time_column='timestamp')\n",
    "print(len(X))\n",
    "print(len(index))\n",
    "imp = SimpleImputer()\n",
    "X = imp.fit_transform(X)\n",
    "scaler = MinMaxScaler(feature_range=(-1, 1))\n",
    "X = scaler.fit_transform(X)\n",
    "X, y = rolling_window_sequences(X, index, \n",
    "                                window_size=100, \n",
    "                                target_size=1, \n",
    "                                step_size=1)\n",
    "print(\"Training data input shape: {}\".format(X.shape))\n",
    "print(\"Training y shape: {}\".format(y.shape))\n",
    "# X, y, X_index, y_index = rolling_window_sequences(X, index, \n",
    "#                                                   window_size=100, \n",
    "#                                                   target_size=1, \n",
    "#                                                   step_size=1)\n",
    "# print(\"Training data input shape: {}\".format(X.shape))\n",
    "# print(\"Training data index shape: {}\".format(X_index.shape))\n",
    "# print(\"Training y shape: {}\".format(y.shape))\n",
    "# print(\"Training y index shape: {}\".format(y_index.shape))\n",
    "LOGGER = logging.getLogger(__name__)\n"
   ]
  },
  {
   "cell_type": "code",
   "execution_count": 91,
   "metadata": {},
   "outputs": [],
   "source": [
    "window_size = 100\n",
    "latent_dim = 20\n",
    "shape = (window_size, 4)\n",
    "\n",
    "# Train parameters\n",
    "batch_size = 64\n",
    "n_critics = 5\n",
    "epochs = 10\n",
    "\n",
    "# Layer Parameters\n",
    "encoder_input_shape = (window_size, 4)\n",
    "generator_input_shape = (20, 4)\n",
    "\n",
    "critic_x_input_shape = (window_size, 4)\n",
    "critic_z_input_shape = (20,4)\n",
    "\n",
    "encoder_reshape_shape = (20, 4)\n",
    "generator_reshape_shape = (window_size//2, 4) # window_size//3 <- 3 is Upsampling size\n",
    "\n",
    "learning_rate = 0.0005\n",
    "\n",
    "# Build Model\n",
    "encoder = build_encoder_layer(input_shape=encoder_input_shape,\n",
    "                              encoder_reshape_shape=encoder_reshape_shape)\n",
    "\n",
    "generator = build_generator_layer(input_shape=generator_input_shape,\n",
    "                                  generator_reshape_shape=generator_reshape_shape)\n",
    "\n",
    "critic_x = build_critic_x_layer(input_shape=critic_x_input_shape)\n",
    "critic_z = build_critic_z_layer(input_shape=critic_z_input_shape)\n",
    "\n",
    "encoder_optimizer = tf.keras.optimizers.Adam(learning_rate)\n",
    "generator_optimizer = tf.keras.optimizers.Adam(learning_rate)\n",
    "critic_x_optimizer = tf.keras.optimizers.Adam(learning_rate)\n",
    "critic_z_optimizer = tf.keras.optimizers.Adam(learning_rate)"
   ]
  },
  {
   "cell_type": "code",
   "execution_count": 92,
   "metadata": {},
   "outputs": [],
   "source": [
    "@tf.function\n",
    "def critic_x_train_on_batch(x, z):\n",
    "    # Loss 크게 이상 없음 \n",
    "    with tf.GradientTape() as tape:\n",
    "        x_ = generator(z)\n",
    "        valid_x = critic_x(x)\n",
    "        fake_x = critic_x(x_)\n",
    "        \n",
    "        # Interpolated \n",
    "        alpha = tf.random.uniform([batch_size, 1, 1], 0.0, 1.0)\n",
    "        interpolated = alpha * x + (1 - alpha) * x_ \n",
    "        \n",
    "        with tf.GradientTape() as gp_tape:\n",
    "            gp_tape.watch(interpolated)\n",
    "            pred = critic_x(interpolated)\n",
    "        \n",
    "        grads = gp_tape.gradient(pred, interpolated)\n",
    "        grad_norm = tf.norm(tf.reshape(grads, (batch_size, -1)), axis=1)\n",
    "        gp_loss = 10.0*tf.reduce_mean(tf.square(grad_norm - 1.))\n",
    "                \n",
    "        loss1 = wasserstein_loss(-tf.ones_like(valid_x), valid_x)\n",
    "        loss2 = wasserstein_loss(tf.ones_like(fake_x), fake_x)\n",
    "        loss = loss1 + loss2 + gp_loss\n",
    "                        \n",
    "    gradients = tape.gradient(loss, critic_x.trainable_weights)\n",
    "    critic_x_optimizer.apply_gradients(zip(gradients, critic_x.trainable_weights))\n",
    "    return loss\n",
    "\n",
    "\n",
    "@tf.function\n",
    "def critic_z_train_on_batch(x, z):\n",
    "    \n",
    "    with tf.GradientTape() as tape:\n",
    "\n",
    "        z_ = encoder(x)   \n",
    "        valid_z = critic_z(z)             \n",
    "        fake_z = critic_z(z_) # <- critic_z 의 결과가 매우 않음 \n",
    "        \n",
    "        # Interpolated \n",
    "        alpha = tf.random.uniform([batch_size, 1, 1], 0.0, 1.0)\n",
    "        interpolated = alpha * z + (1 - alpha) * z_ \n",
    "                \n",
    "        with tf.GradientTape() as gp_tape:\n",
    "            gp_tape.watch(interpolated)\n",
    "            pred = critic_z(interpolated, training=True)\n",
    "            \n",
    "        grads = gp_tape.gradient(pred, interpolated)\n",
    "        grad_norm = tf.norm(tf.reshape(grads, (batch_size, -1)), axis=1)\n",
    "        gp_loss = 10.0*tf.reduce_mean(tf.square(grad_norm - 1.))\n",
    "        \n",
    "        loss1 = wasserstein_loss(-tf.ones_like(valid_z), valid_z)\n",
    "        loss2 = wasserstein_loss(tf.ones_like(fake_z), fake_z) # <- 이게 미친듯이 뜀. \n",
    "        loss = loss1 + loss2 + gp_loss\n",
    "        \n",
    "    gradients = tape.gradient(loss, critic_z.trainable_weights)\n",
    "    critic_z_optimizer.apply_gradients(zip(gradients, critic_z.trainable_weights))\n",
    "    return loss\n",
    "\n",
    "\n",
    "@tf.function\n",
    "def enc_gen_train_on_batch(x, z):\n",
    "    with tf.GradientTape() as enc_tape:\n",
    "        \n",
    "        z_gen_ = encoder(x, training=True)\n",
    "        x_gen_ = generator(z, training=False)        \n",
    "        x_gen_rec = generator(z_gen_, training=False)\n",
    "        \n",
    "        fake_gen_x = critic_x(x_gen_, training=False)\n",
    "        fake_gen_z = critic_z(z_gen_, training=False)\n",
    "        \n",
    "        loss1 = wasserstein_loss(fake_gen_x, -tf.ones_like(fake_gen_x))\n",
    "        loss2 = wasserstein_loss(fake_gen_z, -tf.ones_like(fake_gen_z))\n",
    "        loss3 = 10.0*tf.reduce_mean(tf.keras.losses.MSE(x, x_gen_rec))\n",
    "\n",
    "        enc_loss = loss1 + loss2 + loss3\n",
    "        \n",
    "    gradients_encoder = enc_tape.gradient(enc_loss, encoder.trainable_weights)\n",
    "    encoder_optimizer.apply_gradients(zip(gradients_encoder, encoder.trainable_weights))\n",
    "\n",
    "    with tf.GradientTape() as gen_tape:\n",
    "        \n",
    "        z_gen_ = encoder(x, training=False)\n",
    "        x_gen_ = generator(z, training=True)        \n",
    "        x_gen_rec = generator(z_gen_, training=True)\n",
    "        \n",
    "        fake_gen_x = critic_x(x_gen_, training=False)\n",
    "        fake_gen_z = critic_z(z_gen_, training=False)\n",
    "        \n",
    "        loss1 = wasserstein_loss(fake_gen_x, -tf.ones_like(fake_gen_x))\n",
    "        loss2 = wasserstein_loss(fake_gen_z, -tf.ones_like(fake_gen_z))\n",
    "        loss3 = 10.0*tf.reduce_mean(tf.keras.losses.MSE(x, x_gen_rec))\n",
    "\n",
    "        gen_loss = loss1 + loss2 + loss3\n",
    "        \n",
    "    gradients_generator = gen_tape.gradient(gen_loss, generator.trainable_weights)    \n",
    "    generator_optimizer.apply_gradients(zip(gradients_generator, generator.trainable_weights))    \n",
    "    return enc_loss, gen_loss"
   ]
  },
  {
   "cell_type": "code",
   "execution_count": 93,
   "metadata": {},
   "outputs": [
    {
     "name": "stdout",
     "output_type": "stream",
     "text": [
      "Training data input shape: (883, 100, 4)\n",
      "Training data index shape: (882,)\n",
      "Training y shape: (883,)\n",
      "Training y index shape: (882,)\n"
     ]
    }
   ],
   "source": [
    "tf.config.experimental_run_functions_eagerly(True)\n",
    "\n",
    "X = X.reshape((-1, shape[0], 4))\n",
    "X_ = np.copy(X)\n",
    "\n",
    "print(\"Training data input shape: {}\".format(X.shape))\n",
    "# print(\"Training data index shape: {}\".format(X_index.shape))\n",
    "print(\"Training y shape: {}\".format(y.shape))\n",
    "# print(\"Training y index shape: {}\".format(y_index.shape))"
   ]
  },
  {
   "cell_type": "code",
   "execution_count": 94,
   "metadata": {},
   "outputs": [
    {
     "name": "stdout",
     "output_type": "stream",
     "text": [
      "Epoch: 1/10, [Dx loss: 5.6461591720581055] [Dz loss: 0.41366448998451233] [E loss: 0.5692867040634155] [G loss: -1.326209306716919]\n",
      "Epoch: 2/10, [Dx loss: 2.053725242614746] [Dz loss: 1.2604657411575317] [E loss: -0.5697077512741089] [G loss: -2.419991970062256]\n",
      "Epoch: 3/10, [Dx loss: -0.15697194635868073] [Dz loss: 1.1822984218597412] [E loss: -0.7038090229034424] [G loss: -2.3554491996765137]\n",
      "Epoch: 4/10, [Dx loss: -1.3819530010223389] [Dz loss: -0.001041758107021451] [E loss: 0.47259920835494995] [G loss: -1.0944297313690186]\n",
      "Epoch: 5/10, [Dx loss: -2.146836042404175] [Dz loss: -1.9155648946762085] [E loss: 2.351597309112549] [G loss: 0.6199652552604675]\n",
      "Epoch: 6/10, [Dx loss: -2.60983943939209] [Dz loss: -3.7042360305786133] [E loss: 4.220156192779541] [G loss: 2.2242929935455322]\n",
      "Epoch: 7/10, [Dx loss: -2.824755907058716] [Dz loss: -5.045318126678467] [E loss: 5.568861961364746] [G loss: 3.35937237739563]\n",
      "Epoch: 8/10, [Dx loss: -2.846383571624756] [Dz loss: -5.8394060134887695] [E loss: 6.277963638305664] [G loss: 3.938076972961426]\n",
      "Epoch: 9/10, [Dx loss: -2.722541332244873] [Dz loss: -6.342007637023926] [E loss: 6.524449825286865] [G loss: 4.139883041381836]\n",
      "Epoch: 10/10, [Dx loss: -2.54196834564209] [Dz loss: -6.562572479248047] [E loss: 7.218186855316162] [G loss: 4.850647926330566]\n"
     ]
    }
   ],
   "source": [
    "epoch_e_loss = []    \n",
    "epoch_g_loss = []\n",
    "epoch_cx_loss = []\n",
    "epoch_cz_loss = []\n",
    "\n",
    "for epoch in range(1, epochs+1):\n",
    "    \n",
    "    np.random.shuffle(X_)\n",
    "    \n",
    "    minibatches_size = batch_size * n_critics  # 64*5 = 320 \n",
    "    num_minibatches = int(X_.shape[0] // minibatches_size)  # 12 \n",
    "    \n",
    "    encoder.trainable = False\n",
    "    generator.trainable = False\n",
    "    \n",
    "    for i in range(num_minibatches):\n",
    "        minibatch = X_[i * minibatches_size: (i + 1) * minibatches_size]\n",
    "        \n",
    "        # Number of Critics \n",
    "        for j in range(n_critics):\n",
    "            \n",
    "            x = minibatch[j * batch_size: (j + 1) * batch_size]\n",
    "            ## 임의의 신호를 만들어서 집어 넣어주는 단계 (GAN을 학습시키기 위해 존재함)\n",
    "            z = tf.random.normal(shape=(batch_size, latent_dim, 4), mean=0.0, stddev=1, dtype=tf.dtypes.float32, seed=1748)\n",
    "\n",
    "            \n",
    "            critic_x.trainable = True\n",
    "            critic_z.trainable = False\n",
    "            epoch_cx_loss.append(critic_x_train_on_batch(x, z))\n",
    "            critic_x.trainable = False\n",
    "            critic_z.trainable = True\n",
    "            epoch_cz_loss.append(critic_z_train_on_batch(x, z))\n",
    "        \n",
    "        critic_z.trainable = False\n",
    "        critic_x.trainable = False\n",
    "        encoder.trainable = True\n",
    "        generator.trainable = True\n",
    "        \n",
    "        enc_loss, gen_loss = enc_gen_train_on_batch(x, z)\n",
    "        epoch_e_loss.append(enc_loss)\n",
    "        epoch_g_loss.append(gen_loss)\n",
    "        \n",
    "    cx_loss = np.mean(np.array(epoch_cx_loss), axis=0)\n",
    "    cz_loss = np.mean(np.array(epoch_cz_loss), axis=0)\n",
    "    e_loss = np.mean(np.array(epoch_e_loss), axis=0)\n",
    "    g_loss = np.mean(np.array(epoch_g_loss), axis=0)\n",
    "    \n",
    "    print('Epoch: {}/{}, [Dx loss: {}] [Dz loss: {}] [E loss: {}] [G loss: {}]'.format(epoch, epochs, cx_loss, cz_loss, e_loss, g_loss))    "
   ]
  },
  {
   "cell_type": "code",
   "execution_count": 36,
   "metadata": {},
   "outputs": [
    {
     "data": {
      "text/plain": [
       "(882,)"
      ]
     },
     "execution_count": 36,
     "metadata": {},
     "output_type": "execute_result"
    }
   ],
   "source": [
    "X_index.shape"
   ]
  },
  {
   "cell_type": "code",
   "execution_count": 32,
   "metadata": {},
   "outputs": [
    {
     "name": "stdout",
     "output_type": "stream",
     "text": [
      "6.0\n"
     ]
    }
   ],
   "source": [
    "st = (X_index[1]-X_index[0])/100\n",
    "\n",
    "\n"
   ]
  },
  {
   "cell_type": "code",
   "execution_count": 50,
   "metadata": {},
   "outputs": [
    {
     "name": "stdout",
     "output_type": "stream",
     "text": [
      "0 #############\n",
      "[0, 0]\n",
      "1 #############\n",
      "[1, 0]\n",
      "[0, 1]\n",
      "2 #############\n",
      "[2, 0]\n",
      "[1, 1]\n",
      "[0, 2]\n",
      "3 #############\n",
      "[3, 0]\n",
      "[2, 1]\n",
      "[1, 2]\n",
      "4 #############\n",
      "[4, 0]\n",
      "[3, 1]\n",
      "[2, 2]\n",
      "5 #############\n",
      "[5, 0]\n",
      "[4, 1]\n",
      "[3, 2]\n",
      "6 #############\n",
      "[6, 0]\n",
      "[5, 1]\n",
      "[4, 2]\n",
      "7 #############\n",
      "[7, 0]\n",
      "[6, 1]\n",
      "[5, 2]\n",
      "8 #############\n",
      "[7, 1]\n",
      "[6, 2]\n",
      "9 #############\n",
      "[7, 2]\n"
     ]
    }
   ],
   "source": [
    "# pred_length = X_gen.shape[1] # 100\n",
    "# num_errors = X_gen.shape[1] + 1 * (X_gen.shape[0] - 1) # 981\n",
    "# print(pred_length) # 100\n",
    "# print(num_errors) #981\n",
    "num_errors=10\n",
    "pred_length=3\n",
    "\n",
    "for i in range(num_errors):\n",
    "    print(i, '#############')\n",
    "    for j in range(max(0, i - num_errors + pred_length), min(i + 1, pred_length)):\n",
    "        print([i - j, j])"
   ]
  },
  {
   "cell_type": "code",
   "execution_count": 35,
   "metadata": {},
   "outputs": [
    {
     "name": "stdout",
     "output_type": "stream",
     "text": [
      "9\n"
     ]
    }
   ],
   "source": [
    "a = 0\n",
    "b = 10\n",
    "stam = []\n",
    "st = (b-a)/10\n",
    "for i in range(10-1):\n",
    "    stam.append(i*st+a)\n",
    "# print(len(stam))"
   ]
  },
  {
   "cell_type": "code",
   "execution_count": 41,
   "metadata": {},
   "outputs": [
    {
     "data": {
      "text/plain": [
       "100"
      ]
     },
     "execution_count": 41,
     "metadata": {},
     "output_type": "execute_result"
    }
   ],
   "source": [
    "num_errors = X_gen.shape[1] + 1 * (X_gen.shape[0] - 1)\n",
    "(X_gen.shape[0] - 1)\n",
    "X_gen.shape[1]"
   ]
  },
  {
   "cell_type": "code",
   "execution_count": 76,
   "metadata": {},
   "outputs": [
    {
     "data": {
      "text/plain": [
       "(4,)"
      ]
     },
     "execution_count": 76,
     "metadata": {},
     "output_type": "execute_result"
    }
   ],
   "source": [
    "X.shape\n",
    "X[0][0].shape"
   ]
  },
  {
   "cell_type": "code",
   "execution_count": 78,
   "metadata": {},
   "outputs": [
    {
     "name": "stdout",
     "output_type": "stream",
     "text": [
      "882\n",
      "(4,)\n",
      "99\n",
      "981\n"
     ]
    }
   ],
   "source": [
    "# smoothing_window = 0.01\n",
    "\n",
    "# if isinstance(smoothing_window, float):\n",
    "#     smoothing_window = min(math.trunc(len(X) * smoothing_window), 200)\n",
    "\n",
    "# # 온전한 데이터로 복원 (온전하지 못하다!!!)\n",
    "# ## univariate 기준으로 작성되었기 때문에 수정이 추가로 필요함\n",
    "true = [item[0] for item in X]\n",
    "print(len(true))\n",
    "print(true[0].shape)\n",
    "print(len(X[-1][1:]))\n",
    "for item in X[-1][1:]:\n",
    "    true.append(item)\n",
    "print(len(true))\n",
    "\n",
    "predictions = []\n",
    "pred_length = X_gen.shape[1] # 100\n",
    "num_errors = X_gen.shape[1] + 1 * (X_gen.shape[0] - 1) # 981\n",
    "\n",
    "for i in range(num_errors):\n",
    "    intermediate = []\n",
    "    for j in range(max(0, i - num_errors + pred_length), min(i + 1, pred_length)):\n",
    "        intermediate.append(X_gen[i - j, j])\n",
    "    if intermediate:\n",
    "        predictions.append(np.median(np.asarray(intermediate), axis=0))\n",
    "\n",
    "# true = np.asarray(true)\n",
    "# predictions = np.asarray(predictions)\n",
    "\n",
    "# print(true.shape)\n",
    "# print(predictions.shape)\n",
    "\n",
    "\n",
    "\n",
    "\n",
    "# errors = _dtw_error(true, predictions)"
   ]
  },
  {
   "cell_type": "code",
   "execution_count": 12,
   "metadata": {},
   "outputs": [],
   "source": [
    "# import math\n",
    "# from matplotlib.pyplot import axis\n",
    "# import numpy as np\n",
    "# import pandas as pd\n",
    "# # from pyts.metrics import dtw\n",
    "# from scipy import integrate\n",
    "# from scipy import stats\n",
    "# from pyts.metrics import dtw\n",
    "\n",
    "# def score_anomalies(y, y_hat, critic, score_window=10, critic_smooth_window=None,\n",
    "#                     error_smooth_window=None, smooth=True, rec_error_type=\"point\", comb=\"mult\",\n",
    "#                     lambda_rec=0.5):\n",
    "#     \"\"\"Compute an array of anomaly scores.\n",
    "\n",
    "#     Anomaly scores are calculated using a combination of reconstruction error and critic score.\n",
    "\n",
    "#     Args:\n",
    "#         y (ndarray):\n",
    "#             Ground truth.\n",
    "#         y_hat (ndarray):\n",
    "#             Predicted values. Each timestamp has multiple predictions.\n",
    "#         index (ndarray):\n",
    "#             time index for each y (start position of the window)\n",
    "#         critic (ndarray):\n",
    "#             Critic score. Each timestamp has multiple critic scores.\n",
    "#         score_window (int):\n",
    "#             Optional. Size of the window over which the scores are calculated.\n",
    "#             If not given, 10 is used.\n",
    "#         critic_smooth_window (int):\n",
    "#             Optional. Size of window over which smoothing is applied to critic.\n",
    "#             If not given, 200 is used.\n",
    "#         error_smooth_window (int):\n",
    "#             Optional. Size of window over which smoothing is applied to error.\n",
    "#             If not given, 200 is used.\n",
    "#         smooth (bool):\n",
    "#             Optional. Indicates whether errors should be smoothed.\n",
    "#             If not given, `True` is used.\n",
    "#         rec_error_type (str):\n",
    "#             Optional. The method to compute reconstruction error. Can be one of\n",
    "#             `[\"point\", \"area\", \"dtw\"]`. If not given, 'point' is used.\n",
    "#         comb (str):\n",
    "#             Optional. How to combine critic and reconstruction error. Can be one\n",
    "#             of `[\"mult\", \"sum\", \"rec\"]`. If not given, 'mult' is used.\n",
    "#         lambda_rec (float):\n",
    "#             Optional. Used if `comb=\"sum\"` as a lambda weighted sum to combine\n",
    "#             scores. If not given, 0.5 is used.\n",
    "\n",
    "#     Returns:\n",
    "#         ndarray:\n",
    "#             Array of anomaly scores.\n",
    "#     \"\"\"\n",
    "\n",
    "#     critic_smooth_window = critic_smooth_window or math.trunc(y.shape[0] * 0.01)\n",
    "#     error_smooth_window = error_smooth_window or math.trunc(y.shape[0] * 0.01)\n",
    "\n",
    "#     step_size = 1  # expected to be 1\n",
    "\n",
    "#     # true_index = index  # no offset\n",
    "\n",
    "#     # true = [item[0] for item in y]\n",
    "#     # for item in y[-1][1:]:\n",
    "#     #     true.append(item)\n",
    "\n",
    "#     ## ctiric 추가 계산\n",
    "#     critic_extended = list()\n",
    "#     for c in critic:\n",
    "#         critic_extended.extend(np.repeat(c, y_hat.shape[1]).tolist())\n",
    "#     critic_extended = np.asarray(critic_extended).reshape((-1, y_hat.shape[1]))\n",
    "    \n",
    "#     critic_kde_max = []\n",
    "#     pred_length = y_hat.shape[1]\n",
    "#     num_errors = y_hat.shape[1] + step_size * (y_hat.shape[0] - 1)\n",
    "\n",
    "#     for i in range(num_errors):\n",
    "#         critic_intermediate = []\n",
    "\n",
    "#         for j in range(max(0, i - num_errors + pred_length), min(i + 1, pred_length)):\n",
    "#             critic_intermediate.append(critic_extended[i - j, j])\n",
    "\n",
    "#         if len(critic_intermediate) > 1:\n",
    "#             discr_intermediate = np.asarray(critic_intermediate)\n",
    "#             try:\n",
    "#                 critic_kde_max.append(discr_intermediate[np.argmax(\n",
    "#                     stats.gaussian_kde(discr_intermediate)(critic_intermediate))])\n",
    "#             except np.linalg.LinAlgError:\n",
    "#                 critic_kde_max.append(np.median(discr_intermediate))\n",
    "#         else:\n",
    "#             critic_kde_max.append(np.median(np.asarray(critic_intermediate)))\n",
    "\n",
    "#     # Compute critic scores\n",
    "#     critic_scores = _compute_critic_score(critic_kde_max, critic_smooth_window)\n",
    "\n",
    "#     # Compute reconstruction scores\n",
    "#     rec_scores = reconstruction_errors(\n",
    "#         y, y_hat, step_size, score_window, error_smooth_window, smooth, rec_error_type)\n",
    "#     rec_scores = stats.zscore(rec_scores)\n",
    "#     rec_scores = np.clip(rec_scores, a_min=0, a_max=None) + 1\n",
    "\n",
    "#     if rec_scores.shape[1] >1:\n",
    "#         new_critic_scores = []\n",
    "#         for i in range(rec_scores.shape[1]):\n",
    "#             new_critic_scores.append(critic_scores)\n",
    "#         # critic_scores = np.repeat(critic_score, axis=1)\n",
    "#         critic_scores = np.transpose(np.asarray(new_critic_scores))\n",
    "\n",
    "#     # Combine the two scores\n",
    "#     if comb == \"mult\":\n",
    "#         final_scores = np.multiply(critic_scores, rec_scores)\n",
    "\n",
    "#     elif comb == \"sum\":\n",
    "#         final_scores = (1 - lambda_rec) * (critic_scores - 1) + lambda_rec * (rec_scores - 1)\n",
    "\n",
    "#     elif comb == \"rec\":\n",
    "#         final_scores = rec_scores\n",
    "\n",
    "#     else:\n",
    "#         raise ValueError(\n",
    "#             'Unknown combination specified {}, use \"mult\", \"sum\", or \"rec\" instead.'.format(comb))\n",
    "\n",
    "#     # true = np.asarray([[t] for t in true])\n",
    "#     return final_scores\n",
    "\n",
    "\n",
    "# def reconstruction_errors(y, y_hat, step_size=1, score_window=10, smoothing_window=0.01,\n",
    "#                           smooth=True, rec_error_type='point'):\n",
    "#     \"\"\"Compute an array of reconstruction errors.\n",
    "\n",
    "#         Compute the discrepancies between the expected and the\n",
    "#         predicted values according to the reconstruction error type.\n",
    "\n",
    "#         Args:\n",
    "#             y (ndarray):\n",
    "#                 Ground truth.\n",
    "#             y_hat (ndarray):\n",
    "#                 Predicted values. Each timestamp has multiple predictions.\n",
    "#             step_size (int):\n",
    "#                 Optional. Indicating the number of steps between windows in the predicted values.\n",
    "#                 If not given, 1 is used.\n",
    "#             score_window (int):\n",
    "#                 Optional. Size of the window over which the scores are calculated.\n",
    "#                 If not given, 10 is used.\n",
    "#             smoothing_window (float or int):\n",
    "#                 Optional. Size of the smoothing window, when float it is expressed as a proportion\n",
    "#                 of the total length of y. If not given, 0.01 is used.\n",
    "#             smooth (bool):\n",
    "#                 Optional. Indicates whether the returned errors should be smoothed.\n",
    "#                 If not given, `True` is used.\n",
    "#             rec_error_type (str):\n",
    "#                 Optional. Reconstruction error types ``[\"point\", \"area\", \"dtw\"]``.\n",
    "#                 If not given, \"point\" is used.\n",
    "\n",
    "#         Returns:\n",
    "#             ndarray:\n",
    "#                 Array of reconstruction errors.\n",
    "#         \"\"\"\n",
    "#     if isinstance(smoothing_window, float):\n",
    "#         smoothing_window = min(math.trunc(len(y) * smoothing_window), 200)\n",
    "\n",
    "#     # 온전한 데이터로 복원 (온전하지 못하다!!!)\n",
    "#     ## univariate 기준으로 작성되었기 때문에 수정이 추가로 필요함\n",
    "#     true = [item[0] for item in y]\n",
    "#     for item in y[-1][1:]:\n",
    "#         true.append(item)\n",
    "\n",
    "#     predictions = []\n",
    "#     pred_length = y_hat.shape[1]\n",
    "#     num_errors = y_hat.shape[1] + step_size * (y_hat.shape[0] - 1)\n",
    "\n",
    "#     for i in range(num_errors):\n",
    "#         intermediate = []\n",
    "#         for j in range(max(0, i - num_errors + pred_length), min(i + 1, pred_length)):\n",
    "#             intermediate.append(y_hat[i - j, j])\n",
    "#         if intermediate:\n",
    "#             predictions.append(np.median(np.asarray(intermediate), axis=0))\n",
    "\n",
    "#     true = np.asarray(true)\n",
    "#     predictions = np.asarray(predictions)\n",
    "\n",
    "#     # Compute reconstruction errors\n",
    "#     if rec_error_type.lower() == \"point\":\n",
    "#         errors = _point_wise_error(true, predictions)\n",
    "\n",
    "#     elif rec_error_type.lower() == \"area\":\n",
    "#         errors = _area_error(true, predictions, score_window)\n",
    "\n",
    "#     elif rec_error_type.lower() == \"dtw\":\n",
    "#         errors = _dtw_error(true, predictions, score_window)\n",
    "\n",
    "#     # Apply smoothing\n",
    "#     if smooth:\n",
    "#         if len(errors.shape) >1:\n",
    "#             each_errors = []\n",
    "#             for ec in range(errors.shape[1]):\n",
    "#                 smooth_ec = pd.Series(errors[:,ec]).rolling(\n",
    "#                     smoothing_window, center=True, min_periods=smoothing_window // 2).mean().values\n",
    "#                 each_errors.append(smooth_ec)\n",
    "#             each_errors = np.transpose(np.asarray(each_errors))\n",
    "#         else:\n",
    "#             each_errors = pd.Series(errors).rolling(\n",
    "#             smoothing_window, center=True, min_periods=smoothing_window // 2).mean().values\n",
    "#     return each_errors\n",
    "\n",
    "# def _compute_critic_score(critics, smooth_window):\n",
    "#     \"\"\"Compute an array of anomaly scores.\n",
    "\n",
    "#     Args:\n",
    "#         critics (ndarray):\n",
    "#             Critic values.\n",
    "#         smooth_window (int):\n",
    "#             Smooth window that will be applied to compute smooth errors.\n",
    "\n",
    "#     Returns:\n",
    "#         ndarray:\n",
    "#             Array of anomaly scores.\n",
    "#     \"\"\"\n",
    "#     critics = np.asarray(critics)\n",
    "#     l_quantile = np.quantile(critics, 0.25)\n",
    "#     u_quantile = np.quantile(critics, 0.75)\n",
    "#     in_range = np.logical_and(critics >= l_quantile, critics <= u_quantile)\n",
    "#     critic_mean = np.mean(critics[in_range])\n",
    "#     critic_std = np.std(critics)\n",
    "\n",
    "#     z_scores = np.absolute((np.asarray(critics) - critic_mean) / critic_std) + 1\n",
    "#     z_scores = pd.Series(z_scores).rolling(\n",
    "#         smooth_window, center=True, min_periods=smooth_window // 2).mean().values\n",
    "\n",
    "#     return z_scores\n",
    "\n",
    "# def _point_wise_error(y, y_hat):\n",
    "#     \"\"\"Compute point-wise error between predicted and expected values.\n",
    "\n",
    "#     The computed error is calculated as the difference between predicted\n",
    "#     and expected values with a rolling smoothing factor.\n",
    "\n",
    "#     Args:\n",
    "#         y (ndarray):\n",
    "#             Ground truth.\n",
    "#         y_hat (ndarray):\n",
    "#             Predicted values.\n",
    "\n",
    "#     Returns:\n",
    "#         ndarray:\n",
    "#             An array of smoothed point-wise error.\n",
    "#     \"\"\"\n",
    "#     return abs(y - y_hat)\n",
    "\n",
    "\n",
    "# def _area_error(y, y_hat, score_window=10):\n",
    "#     \"\"\"Compute area error between predicted and expected values.\n",
    "\n",
    "#     The computed error is calculated as the area difference between predicted\n",
    "#     and expected values with a smoothing factor.\n",
    "\n",
    "#     Args:\n",
    "#         y (ndarray):\n",
    "#             Ground truth.\n",
    "#         y_hat (ndarray):\n",
    "#             Predicted values.\n",
    "#         score_window (int):\n",
    "#             Optional. Size of the window over which the scores are calculated.\n",
    "#             If not given, 10 is used.\n",
    "\n",
    "#     Returns:\n",
    "#         ndarray:\n",
    "#             An array of area error.\n",
    "#     \"\"\"\n",
    "#     each_errors = []\n",
    "#     for ec in range(y.shape[1]):\n",
    "#         smooth_y = pd.Series(y[:,ec]).rolling(\n",
    "#             score_window, center=True, min_periods=score_window // 2).apply(integrate.trapz)\n",
    "#         smooth_y_hat = pd.Series(y_hat[:,ec]).rolling(\n",
    "#             score_window, center=True, min_periods=score_window // 2).apply(integrate.trapz)\n",
    "#         errors = abs(smooth_y - smooth_y_hat)\n",
    "#         each_errors.append(errors)\n",
    "#     each_errors = np.transpose(np.asarray(each_errors))\n",
    "\n",
    "#     return each_errors\n",
    "\n",
    "\n",
    "# def _dtw_error(y, y_hat, score_window=10):\n",
    "#     \"\"\"Compute dtw error between predicted and expected values.\n",
    "\n",
    "#     The computed error is calculated as the dynamic time warping distance\n",
    "#     between predicted and expected values with a smoothing factor.\n",
    "\n",
    "#     Args:\n",
    "#         y (ndarray):\n",
    "#             Ground truth.\n",
    "#         y_hat (ndarray):\n",
    "#             Predicted values.\n",
    "#         score_window (int):\n",
    "#             Optional. Size of the window over which the scores are calculated.\n",
    "#             If not given, 10 is used.\n",
    "\n",
    "#     Returns:\n",
    "#         ndarray:\n",
    "#             An array of dtw error.\n",
    "#     \"\"\"\n",
    "#     length_dtw = (score_window // 2) * 2 + 1\n",
    "#     half_length_dtw = length_dtw // 2\n",
    "\n",
    "\n",
    "#     # add padding\n",
    "#     print(y.shape)\n",
    "#     print(y_hat.shape)\n",
    "#     y_pad = np.pad(y, (half_length_dtw, half_length_dtw),\n",
    "#                    'constant', constant_values=(0, 0))\n",
    "#     y_hat_pad = np.pad(y_hat, (half_length_dtw, half_length_dtw),\n",
    "#                        'constant', constant_values=(0, 0))\n",
    "\n",
    "#     each_errors = list()\n",
    "#     for ec in range(y.shape[1]):\n",
    "#         ec_y_pad = y_pad[:,ec]\n",
    "#         ec_y_hat_pad = y_hat_pad[:,ec]\n",
    "\n",
    "#         i = 0\n",
    "#         similarity_dtw = list()\n",
    "#         while i < len(y) - length_dtw:\n",
    "#             true_data = ec_y_pad[i:i + length_dtw]\n",
    "#             true_data = true_data.flatten()\n",
    "\n",
    "#             pred_data = ec_y_hat_pad[i:i + length_dtw]\n",
    "#             pred_data = pred_data.flatten()\n",
    "\n",
    "#             dist = dtw(true_data, pred_data)\n",
    "#             similarity_dtw.append(dist)\n",
    "\n",
    "#             i += 1\n",
    "\n",
    "#         errors = ([0] * half_length_dtw + similarity_dtw +\n",
    "#                 [0] * (len(y) - len(similarity_dtw) - half_length_dtw))\n",
    "#         each_errors.append(errors)\n",
    "#     each_errors = np.transpose(np.asarray(each_errors))\n",
    "#     return each_errors\n",
    "\n",
    "\n"
   ]
  },
  {
   "cell_type": "code",
   "execution_count": 139,
   "metadata": {},
   "outputs": [],
   "source": [
    "\n",
    "\n",
    "def reconstruction(X):\n",
    "    z_gen_ = encoder(X, training=False)\n",
    "    x_gen_ = generator(z_gen_, training=False)\n",
    "    X_critic = critic_x(x_gen_, training=False)\n",
    "    return x_gen_, X_critic\n",
    "\n",
    "X_gen, X_critic = reconstruction(X)\n",
    "\n",
    "final_scores = score_anomalies(X, X_gen, X_critic, rec_error_type=\"area\", comb=\"mult\")\n"
   ]
  },
  {
   "cell_type": "code",
   "execution_count": 98,
   "metadata": {},
   "outputs": [],
   "source": [
    "# new_time = pd.to_datetime(df['timestamp'], format='%Y.%m.%d.%H.%M.%S')\n",
    "# new_time\n",
    "\n",
    "from datetime import datetime\n",
    "def convert_date(timelist):\n",
    "    converted = list()\n",
    "    for x in timelist:\n",
    "        converted.append(datetime.fromtimestamp(x))\n",
    "    return converted\n",
    "\n",
    "new_time = convert_date(df['timestamp'])\n",
    "# new_time"
   ]
  },
  {
   "cell_type": "code",
   "execution_count": 135,
   "metadata": {},
   "outputs": [
    {
     "data": {
      "text/plain": [
       "array([[ 1.21289021,  1.21289021,  1.21289021,  1.21289021],\n",
       "       [ 1.22724298,  1.21242456,  1.21242456,  1.21242456],\n",
       "       [ 1.27046886,  1.21211412,  1.21211412,  1.21211412],\n",
       "       ...,\n",
       "       [31.10101758, 20.58119951, 16.64231426, 22.84134327],\n",
       "       [27.79664925, 18.3328887 , 14.61523864, 19.9457869 ],\n",
       "       [24.0109351 , 15.76147221, 12.2492178 , 16.85550968]])"
      ]
     },
     "execution_count": 135,
     "metadata": {},
     "output_type": "execute_result"
    }
   ],
   "source": [
    "final_scores"
   ]
  },
  {
   "cell_type": "markdown",
   "metadata": {},
   "source": [
    "# point error"
   ]
  },
  {
   "cell_type": "code",
   "execution_count": 118,
   "metadata": {},
   "outputs": [
    {
     "name": "stderr",
     "output_type": "stream",
     "text": [
      "/home/rain/anaconda3/envs/tf2/lib/python3.6/site-packages/pandas/plotting/_matplotlib/core.py:486: UserWarning: Attempted to set non-positive bottom ylim on a log-scaled axis.\n",
      "Invalid limit will be ignored.\n",
      "  ax.set_ylim(self.ylim)\n"
     ]
    },
    {
     "data": {
      "text/plain": [
       "<matplotlib.patches.Polygon at 0x7f5ad4509748>"
      ]
     },
     "execution_count": 118,
     "metadata": {},
     "output_type": "execute_result"
    },
    {
     "data": {
      "image/png": "[encoded data removed]",
      "text/plain": [
       "<Figure size 1152x648 with 1 Axes>"
      ]
     },
     "metadata": {
      "needs_background": "light"
     },
     "output_type": "display_data"
    }
   ],
   "source": [
    "diff = np.mean(final_scores, axis=1)\n",
    "scored = pd.DataFrame(index=new_time)\n",
    "scored['Loss_mean']=diff\n",
    "scored['loss_B1'] = final_scores[:,0]\n",
    "scored['loss_B2'] = final_scores[:,1]\n",
    "scored['loss_B3'] = final_scores[:,2]\n",
    "scored['loss_B4'] = final_scores[:,3]\n",
    "\n",
    "scored.plot(logy=True,  figsize=(16,9), ylim=[0,1e2], color=['blue','red', 'orange', 'green', 'magenta'])\n",
    "plt.axvspan(train.index[0], train.index[-1], alpha=0.2)\n",
    "plt.axvspan(test.index[0], test.index[-1], color='red', alpha=0.2)\n"
   ]
  },
  {
   "cell_type": "markdown",
   "metadata": {},
   "source": [
    "# dtw error"
   ]
  },
  {
   "cell_type": "code",
   "execution_count": 133,
   "metadata": {},
   "outputs": [
    {
     "name": "stderr",
     "output_type": "stream",
     "text": [
      "/home/rain/anaconda3/envs/tf2/lib/python3.6/site-packages/pandas/plotting/_matplotlib/core.py:486: UserWarning: Attempted to set non-positive bottom ylim on a log-scaled axis.\n",
      "Invalid limit will be ignored.\n",
      "  ax.set_ylim(self.ylim)\n"
     ]
    },
    {
     "data": {
      "text/plain": [
       "<matplotlib.patches.Polygon at 0x7f5a75dfd9e8>"
      ]
     },
     "execution_count": 133,
     "metadata": {},
     "output_type": "execute_result"
    },
    {
     "data": {
      "image/png": "[encoded data removed]",
      "text/plain": [
       "<Figure size 1152x648 with 1 Axes>"
      ]
     },
     "metadata": {
      "needs_background": "light"
     },
     "output_type": "display_data"
    }
   ],
   "source": [
    "diff = np.mean(final_scores, axis=1)\n",
    "scored = pd.DataFrame(index=new_time)\n",
    "scored['Loss_mean']=diff\n",
    "scored['loss_B1'] = final_scores[:,0]\n",
    "scored['loss_B2'] = final_scores[:,1]\n",
    "scored['loss_B3'] = final_scores[:,2]\n",
    "scored['loss_B4'] = final_scores[:,3]\n",
    "\n",
    "scored.plot(logy=True,  figsize=(16,9), ylim=[0,1e2], color=['blue','red', 'orange', 'green', 'magenta'])\n",
    "plt.axvspan(train.index[0], train.index[-1], alpha=0.2)\n",
    "plt.axvspan(test.index[0], test.index[-1], color='red', alpha=0.2)"
   ]
  },
  {
   "cell_type": "markdown",
   "metadata": {},
   "source": [
    "# area error"
   ]
  },
  {
   "cell_type": "code",
   "execution_count": 140,
   "metadata": {},
   "outputs": [
    {
     "name": "stderr",
     "output_type": "stream",
     "text": [
      "/home/rain/anaconda3/envs/tf2/lib/python3.6/site-packages/pandas/plotting/_matplotlib/core.py:486: UserWarning: Attempted to set non-positive bottom ylim on a log-scaled axis.\n",
      "Invalid limit will be ignored.\n",
      "  ax.set_ylim(self.ylim)\n"
     ]
    },
    {
     "data": {
      "text/plain": [
       "<matplotlib.patches.Polygon at 0x7f5a74364cc0>"
      ]
     },
     "execution_count": 140,
     "metadata": {},
     "output_type": "execute_result"
    },
    {
     "data": {
      "image/png": "[encoded data removed]",
      "text/plain": [
       "<Figure size 1152x648 with 1 Axes>"
      ]
     },
     "metadata": {
      "needs_background": "light"
     },
     "output_type": "display_data"
    }
   ],
   "source": [
    "diff = np.mean(final_scores, axis=1)\n",
    "scored = pd.DataFrame(index=new_time)\n",
    "scored['Loss_mean']=diff\n",
    "scored['loss_B1'] = final_scores[:,0]\n",
    "scored['loss_B2'] = final_scores[:,1]\n",
    "scored['loss_B3'] = final_scores[:,2]\n",
    "scored['loss_B4'] = final_scores[:,3]\n",
    "\n",
    "scored.plot(logy=True,  figsize=(16,9), ylim=[0,1e2], color=['blue','red', 'orange', 'green', 'magenta'])\n",
    "plt.axvspan(train.index[0], train.index[-1], alpha=0.2)\n",
    "plt.axvspan(test.index[0], test.index[-1], color='red', alpha=0.2)"
   ]
  }
 ],
 "metadata": {
  "interpreter": {
   "hash": "90dfeaaf52637e96c99c46409827c11a32c0f92acf1de1204bfb76f6fca3df40"
  },
  "kernelspec": {
   "display_name": "Python 3.6.13 ('tf2': conda)",
   "language": "python",
   "name": "python3"
  },
  "language_info": {
   "codemirror_mode": {
    "name": "ipython",
    "version": 3
   },
   "file_extension": ".py",
   "mimetype": "text/x-python",
   "name": "python",
   "nbconvert_exporter": "python",
   "pygments_lexer": "ipython3",
   "version": "3.6.13"
  },
  "orig_nbformat": 4
 },
 "nbformat": 4,
 "nbformat_minor": 2
}
