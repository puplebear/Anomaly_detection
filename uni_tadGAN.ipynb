{
 "cells": [
  {
   "cell_type": "code",
   "execution_count": 1,
   "metadata": {},
   "outputs": [],
   "source": [
    "# import libraries\n",
    "import os\n",
    "import time\n",
    "import datetime\n",
    "import pandas as pd\n",
    "import numpy as np\n",
    "from sklearn.preprocessing import MinMaxScaler\n",
    "from sklearn.impute import SimpleImputer\n",
    "import joblib\n",
    "import seaborn as sns\n",
    "sns.set(color_codes=True)\n",
    "import matplotlib.pyplot as plt\n",
    "%matplotlib inline\n",
    "\n",
    "from numpy.random import seed\n",
    "# from tensorflow import set_random_seed\n",
    "import tensorflow as tf\n",
    "import logging\n",
    "# tf.logging.set_verbosity(tf.logging.ERROR)\n",
    "\n",
    "%load_ext autoreload\n",
    "%autoreload 2\n",
    "from fortadGAN.fortadGAN_utils import score_anomalies, reconstruction_errors\n",
    "from fortadGAN.fortadGAN_layers import build_encoder_layer, build_generator_layer, build_critic_x_layer, build_critic_z_layer, wasserstein_loss\n",
    "from fortadGAN.fortadGAN_preproc import time_segments_aggregate, rolling_window_sequences\n",
    "\n",
    "\n",
    "\n",
    "from keras.layers import Input, Dropout, Dense, LSTM, TimeDistributed, RepeatVector\n",
    "from keras.models import Model\n",
    "from keras import regularizers\n",
    "\n",
    "\n",
    "# df.shape"
   ]
  },
  {
   "cell_type": "code",
   "execution_count": 3,
   "metadata": {},
   "outputs": [
    {
     "data": {
      "text/html": [
       "<div>\n",
       "<style scoped>\n",
       "    .dataframe tbody tr th:only-of-type {\n",
       "        vertical-align: middle;\n",
       "    }\n",
       "\n",
       "    .dataframe tbody tr th {\n",
       "        vertical-align: top;\n",
       "    }\n",
       "\n",
       "    .dataframe thead th {\n",
       "        text-align: right;\n",
       "    }\n",
       "</style>\n",
       "<table border=\"1\" class=\"dataframe\">\n",
       "  <thead>\n",
       "    <tr style=\"text-align: right;\">\n",
       "      <th></th>\n",
       "      <th>timestamp</th>\n",
       "      <th>value</th>\n",
       "    </tr>\n",
       "  </thead>\n",
       "  <tbody>\n",
       "    <tr>\n",
       "      <th>0</th>\n",
       "      <td>1404165600</td>\n",
       "      <td>10844.0</td>\n",
       "    </tr>\n",
       "    <tr>\n",
       "      <th>1</th>\n",
       "      <td>1404167400</td>\n",
       "      <td>8127.0</td>\n",
       "    </tr>\n",
       "    <tr>\n",
       "      <th>2</th>\n",
       "      <td>1404169200</td>\n",
       "      <td>6210.0</td>\n",
       "    </tr>\n",
       "    <tr>\n",
       "      <th>3</th>\n",
       "      <td>1404171000</td>\n",
       "      <td>4656.0</td>\n",
       "    </tr>\n",
       "    <tr>\n",
       "      <th>4</th>\n",
       "      <td>1404172800</td>\n",
       "      <td>3820.0</td>\n",
       "    </tr>\n",
       "  </tbody>\n",
       "</table>\n",
       "</div>"
      ],
      "text/plain": [
       "    timestamp    value\n",
       "0  1404165600  10844.0\n",
       "1  1404167400   8127.0\n",
       "2  1404169200   6210.0\n",
       "3  1404171000   4656.0\n",
       "4  1404172800   3820.0"
      ]
     },
     "execution_count": 3,
     "metadata": {},
     "output_type": "execute_result"
    }
   ],
   "source": [
    "seed(10)\n",
    "# set_random_seed(10)\n",
    "\n",
    "df = pd.read_csv('data/NYT.csv', index_col=0)\n",
    "df_ano = pd.read_csv('data/NYT_ano.csv', index_col=0)\n",
    "df.head()"
   ]
  },
  {
   "cell_type": "markdown",
   "metadata": {},
   "source": [
    "# 데이터 jump 오류 있음\n",
    "timestamp 에서 중간에 1800 기준으로 나타나지 않는 구간이 생기다 보니 문제가 생김\n",
    "데이터 수에서도 문제가 생기기 때문에 이를 수정해줘서 데이터를 맞춰줌\n"
   ]
  },
  {
   "cell_type": "code",
   "execution_count": 98,
   "metadata": {},
   "outputs": [],
   "source": [
    "st = df['timestamp'][0]\n",
    "new_timestamp = list()\n",
    "for i in range(len(df['timestamp'])):\n",
    "    new_timestamp.append(st)\n",
    "    st +=1800\n",
    "df['new_timestamp'] = new_timestamp"
   ]
  },
  {
   "cell_type": "code",
   "execution_count": 122,
   "metadata": {},
   "outputs": [
    {
     "data": {
      "text/html": [
       "<div>\n",
       "<style scoped>\n",
       "    .dataframe tbody tr th:only-of-type {\n",
       "        vertical-align: middle;\n",
       "    }\n",
       "\n",
       "    .dataframe tbody tr th {\n",
       "        vertical-align: top;\n",
       "    }\n",
       "\n",
       "    .dataframe thead th {\n",
       "        text-align: right;\n",
       "    }\n",
       "</style>\n",
       "<table border=\"1\" class=\"dataframe\">\n",
       "  <thead>\n",
       "    <tr style=\"text-align: right;\">\n",
       "      <th></th>\n",
       "      <th>start</th>\n",
       "      <th>end</th>\n",
       "      <th>new_start</th>\n",
       "      <th>new_end</th>\n",
       "    </tr>\n",
       "  </thead>\n",
       "  <tbody>\n",
       "    <tr>\n",
       "      <th>0</th>\n",
       "      <td>1414679400</td>\n",
       "      <td>1415050200</td>\n",
       "      <td>1414675800</td>\n",
       "      <td>1415046600</td>\n",
       "    </tr>\n",
       "    <tr>\n",
       "      <th>1</th>\n",
       "      <td>1416913200</td>\n",
       "      <td>1417284000</td>\n",
       "      <td>1416909600</td>\n",
       "      <td>1417280400</td>\n",
       "    </tr>\n",
       "    <tr>\n",
       "      <th>2</th>\n",
       "      <td>1419330600</td>\n",
       "      <td>1419701400</td>\n",
       "      <td>1419327000</td>\n",
       "      <td>1419697800</td>\n",
       "    </tr>\n",
       "    <tr>\n",
       "      <th>3</th>\n",
       "      <td>1419885000</td>\n",
       "      <td>1420255800</td>\n",
       "      <td>1419881400</td>\n",
       "      <td>1420252200</td>\n",
       "    </tr>\n",
       "    <tr>\n",
       "      <th>4</th>\n",
       "      <td>1422127800</td>\n",
       "      <td>1422498600</td>\n",
       "      <td>1422124200</td>\n",
       "      <td>1422495000</td>\n",
       "    </tr>\n",
       "  </tbody>\n",
       "</table>\n",
       "</div>"
      ],
      "text/plain": [
       "        start         end   new_start     new_end\n",
       "0  1414679400  1415050200  1414675800  1415046600\n",
       "1  1416913200  1417284000  1416909600  1417280400\n",
       "2  1419330600  1419701400  1419327000  1419697800\n",
       "3  1419885000  1420255800  1419881400  1420252200\n",
       "4  1422127800  1422498600  1422124200  1422495000"
      ]
     },
     "execution_count": 122,
     "metadata": {},
     "output_type": "execute_result"
    }
   ],
   "source": [
    "new_start = list()\n",
    "new_end = list()\n",
    "for i in range(len(df_ano)):\n",
    "    st_df = df.loc[df['timestamp'] == df_ano['start'][i]]\n",
    "    ed_ef = df.loc[df['timestamp'] == df_ano['end'][i]]\n",
    "    new_start.append(int(st_df['new_timestamp']))\n",
    "    new_end.append(int(ed_ef['new_timestamp']))\n",
    "\n",
    "df_ano['new_start'] = new_start\n",
    "df_ano['new_end'] = new_end\n",
    "df_ano\n",
    "    "
   ]
  },
  {
   "cell_type": "code",
   "execution_count": 124,
   "metadata": {},
   "outputs": [],
   "source": [
    "del df['timestamp']\n",
    "del df_ano['start']\n",
    "del df_ano['end']"
   ]
  },
  {
   "cell_type": "markdown",
   "metadata": {},
   "source": [
    "# 현재 데이터 시각화"
   ]
  },
  {
   "cell_type": "code",
   "execution_count": 125,
   "metadata": {},
   "outputs": [
    {
     "name": "stdout",
     "output_type": "stream",
     "text": [
      "<class 'pandas.core.frame.DataFrame'>\n",
      "Int64Index: 10320 entries, 0 to 10319\n",
      "Data columns (total 2 columns):\n",
      " #   Column         Non-Null Count  Dtype  \n",
      "---  ------         --------------  -----  \n",
      " 0   value          10320 non-null  float64\n",
      " 1   new_timestamp  10320 non-null  int64  \n",
      "dtypes: float64(1), int64(1)\n",
      "memory usage: 561.9 KB\n"
     ]
    }
   ],
   "source": [
    "df.info()"
   ]
  },
  {
   "cell_type": "code",
   "execution_count": 126,
   "metadata": {},
   "outputs": [
    {
     "data": {
      "image/png": "[encoded data removed]",
      "text/plain": [
       "<Figure size 432x288 with 1 Axes>"
      ]
     },
     "metadata": {
      "needs_background": "light"
     },
     "output_type": "display_data"
    }
   ],
   "source": [
    "from datetime import datetime\n",
    "def convert_date(timelist):\n",
    "    converted = list()\n",
    "    for x in timelist:\n",
    "        converted.append(datetime.fromtimestamp(x))\n",
    "    return converted\n",
    "\n",
    "new_time = convert_date(df['new_timestamp'])\n",
    "\n",
    "plt.plot(new_time, df['value'], alpha = 0.5)\n",
    "\n",
    "\n",
    "for st_ed_times in df_ano.values:\n",
    "    st = datetime.fromtimestamp(st_ed_times[0])\n",
    "    ed = datetime.fromtimestamp(st_ed_times[1])\n",
    "    plt.axvspan(st, ed, color='green', alpha=0.2)\n",
    "\n",
    "\n",
    "plt.show()"
   ]
  },
  {
   "cell_type": "markdown",
   "metadata": {},
   "source": [
    "# 데이터 처리"
   ]
  },
  {
   "cell_type": "code",
   "execution_count": 128,
   "metadata": {},
   "outputs": [
    {
     "name": "stdout",
     "output_type": "stream",
     "text": [
      "(10320,)\n",
      "10320\n",
      "10320\n",
      "Training data input shape: (10221, 100, 1)\n",
      "Training y shape: (10221,)\n"
     ]
    },
    {
     "name": "stderr",
     "output_type": "stream",
     "text": [
      "/home/rain/anaconda3/envs/tf2/lib/python3.6/site-packages/numpy/core/_asarray.py:83: VisibleDeprecationWarning: Creating an ndarray from ragged nested sequences (which is a list-or-tuple of lists-or-tuples-or ndarrays with different lengths or shapes) is deprecated. If you meant to do this, you must specify 'dtype=object' when creating the ndarray\n",
      "  return array(a, dtype, copy=False, order=order)\n"
     ]
    }
   ],
   "source": [
    "# 전처리 \n",
    "print(df['value'].shape)\n",
    "X, index = time_segments_aggregate(df, interval=1800, time_column='new_timestamp')\n",
    "print(len(X))\n",
    "print(len(index))\n",
    "imp = SimpleImputer()\n",
    "X = imp.fit_transform(X)\n",
    "scaler = MinMaxScaler(feature_range=(-1, 1))\n",
    "X = scaler.fit_transform(X)\n",
    "X, y = rolling_window_sequences(X, index, \n",
    "                                window_size=100, \n",
    "                                target_size=1, \n",
    "                                step_size=1)\n",
    "print(\"Training data input shape: {}\".format(X.shape))\n",
    "print(\"Training y shape: {}\".format(y.shape))\n",
    "# X, y, X_index, y_index = rolling_window_sequences(X, index, \n",
    "#                                                   window_size=100, \n",
    "#                                                   target_size=1, \n",
    "#                                                   step_size=1)\n",
    "# print(\"Training data input shape: {}\".format(X.shape))\n",
    "# print(\"Training data index shape: {}\".format(X_index.shape))\n",
    "# print(\"Training y shape: {}\".format(y.shape))\n",
    "# print(\"Training y index shape: {}\".format(y_index.shape))\n",
    "LOGGER = logging.getLogger(__name__)\n"
   ]
  },
  {
   "cell_type": "code",
   "execution_count": 129,
   "metadata": {},
   "outputs": [],
   "source": [
    "channel_size = 1\n",
    "window_size = 100\n",
    "latent_dim = 20\n",
    "shape = (window_size, channel_size)\n",
    "\n",
    "# Train parameters\n",
    "batch_size = 64\n",
    "n_critics = 5\n",
    "epochs = 10\n",
    "\n",
    "# Layer Parameters\n",
    "encoder_input_shape = (window_size, channel_size)\n",
    "generator_input_shape = (20, channel_size)\n",
    "\n",
    "critic_x_input_shape = (window_size, channel_size)\n",
    "critic_z_input_shape = (20,channel_size)\n",
    "\n",
    "encoder_reshape_shape = (20, channel_size)\n",
    "generator_reshape_shape = (window_size//2, channel_size) # window_size//3 <- 3 is Upsampling size\n",
    "\n",
    "learning_rate = 0.0005\n",
    "\n",
    "# Build Model\n",
    "encoder = build_encoder_layer(input_shape=encoder_input_shape,\n",
    "                              encoder_reshape_shape=encoder_reshape_shape)\n",
    "\n",
    "generator = build_generator_layer(input_shape=generator_input_shape,\n",
    "                                  generator_reshape_shape=generator_reshape_shape)\n",
    "\n",
    "critic_x = build_critic_x_layer(input_shape=critic_x_input_shape)\n",
    "critic_z = build_critic_z_layer(input_shape=critic_z_input_shape)\n",
    "\n",
    "encoder_optimizer = tf.keras.optimizers.Adam(learning_rate)\n",
    "generator_optimizer = tf.keras.optimizers.Adam(learning_rate)\n",
    "critic_x_optimizer = tf.keras.optimizers.Adam(learning_rate)\n",
    "critic_z_optimizer = tf.keras.optimizers.Adam(learning_rate)"
   ]
  },
  {
   "cell_type": "code",
   "execution_count": 130,
   "metadata": {},
   "outputs": [],
   "source": [
    "@tf.function\n",
    "def critic_x_train_on_batch(x, z):\n",
    "    # Loss 크게 이상 없음 \n",
    "    with tf.GradientTape() as tape:\n",
    "        x_ = generator(z)\n",
    "        valid_x = critic_x(x)\n",
    "        fake_x = critic_x(x_)\n",
    "        \n",
    "        # Interpolated \n",
    "        alpha = tf.random.uniform([batch_size, 1, 1], 0.0, 1.0)\n",
    "        interpolated = alpha * x + (1 - alpha) * x_ \n",
    "        \n",
    "        with tf.GradientTape() as gp_tape:\n",
    "            gp_tape.watch(interpolated)\n",
    "            pred = critic_x(interpolated)\n",
    "        \n",
    "        grads = gp_tape.gradient(pred, interpolated)\n",
    "        grad_norm = tf.norm(tf.reshape(grads, (batch_size, -1)), axis=1)\n",
    "        gp_loss = 10.0*tf.reduce_mean(tf.square(grad_norm - 1.))\n",
    "                \n",
    "        loss1 = wasserstein_loss(-tf.ones_like(valid_x), valid_x)\n",
    "        loss2 = wasserstein_loss(tf.ones_like(fake_x), fake_x)\n",
    "        loss = loss1 + loss2 + gp_loss\n",
    "                        \n",
    "    gradients = tape.gradient(loss, critic_x.trainable_weights)\n",
    "    critic_x_optimizer.apply_gradients(zip(gradients, critic_x.trainable_weights))\n",
    "    return loss\n",
    "\n",
    "\n",
    "@tf.function\n",
    "def critic_z_train_on_batch(x, z):\n",
    "    \n",
    "    with tf.GradientTape() as tape:\n",
    "\n",
    "        z_ = encoder(x)   \n",
    "        valid_z = critic_z(z)             \n",
    "        fake_z = critic_z(z_) # <- critic_z 의 결과가 매우 않음 \n",
    "        \n",
    "        # Interpolated \n",
    "        alpha = tf.random.uniform([batch_size, 1, 1], 0.0, 1.0)\n",
    "        interpolated = alpha * z + (1 - alpha) * z_ \n",
    "                \n",
    "        with tf.GradientTape() as gp_tape:\n",
    "            gp_tape.watch(interpolated)\n",
    "            pred = critic_z(interpolated, training=True)\n",
    "            \n",
    "        grads = gp_tape.gradient(pred, interpolated)\n",
    "        grad_norm = tf.norm(tf.reshape(grads, (batch_size, -1)), axis=1)\n",
    "        gp_loss = 10.0*tf.reduce_mean(tf.square(grad_norm - 1.))\n",
    "        \n",
    "        loss1 = wasserstein_loss(-tf.ones_like(valid_z), valid_z)\n",
    "        loss2 = wasserstein_loss(tf.ones_like(fake_z), fake_z) # <- 이게 미친듯이 뜀. \n",
    "        loss = loss1 + loss2 + gp_loss\n",
    "        \n",
    "    gradients = tape.gradient(loss, critic_z.trainable_weights)\n",
    "    critic_z_optimizer.apply_gradients(zip(gradients, critic_z.trainable_weights))\n",
    "    return loss\n",
    "\n",
    "\n",
    "@tf.function\n",
    "def enc_gen_train_on_batch(x, z):\n",
    "    with tf.GradientTape() as enc_tape:\n",
    "        \n",
    "        z_gen_ = encoder(x, training=True)\n",
    "        x_gen_ = generator(z, training=False)        \n",
    "        x_gen_rec = generator(z_gen_, training=False)\n",
    "        \n",
    "        fake_gen_x = critic_x(x_gen_, training=False)\n",
    "        fake_gen_z = critic_z(z_gen_, training=False)\n",
    "        \n",
    "        loss1 = wasserstein_loss(fake_gen_x, -tf.ones_like(fake_gen_x))\n",
    "        loss2 = wasserstein_loss(fake_gen_z, -tf.ones_like(fake_gen_z))\n",
    "        loss3 = 10.0*tf.reduce_mean(tf.keras.losses.MSE(x, x_gen_rec))\n",
    "\n",
    "        enc_loss = loss1 + loss2 + loss3\n",
    "        \n",
    "    gradients_encoder = enc_tape.gradient(enc_loss, encoder.trainable_weights)\n",
    "    encoder_optimizer.apply_gradients(zip(gradients_encoder, encoder.trainable_weights))\n",
    "\n",
    "    with tf.GradientTape() as gen_tape:\n",
    "        \n",
    "        z_gen_ = encoder(x, training=False)\n",
    "        x_gen_ = generator(z, training=True)        \n",
    "        x_gen_rec = generator(z_gen_, training=True)\n",
    "        \n",
    "        fake_gen_x = critic_x(x_gen_, training=False)\n",
    "        fake_gen_z = critic_z(z_gen_, training=False)\n",
    "        \n",
    "        loss1 = wasserstein_loss(fake_gen_x, -tf.ones_like(fake_gen_x))\n",
    "        loss2 = wasserstein_loss(fake_gen_z, -tf.ones_like(fake_gen_z))\n",
    "        loss3 = 10.0*tf.reduce_mean(tf.keras.losses.MSE(x, x_gen_rec))\n",
    "\n",
    "        gen_loss = loss1 + loss2 + loss3\n",
    "        \n",
    "    gradients_generator = gen_tape.gradient(gen_loss, generator.trainable_weights)    \n",
    "    generator_optimizer.apply_gradients(zip(gradients_generator, generator.trainable_weights))    \n",
    "    return enc_loss, gen_loss"
   ]
  },
  {
   "cell_type": "code",
   "execution_count": 131,
   "metadata": {},
   "outputs": [],
   "source": [
    "tf.config.experimental_run_functions_eagerly(True)\n",
    "\n",
    "X = X.reshape((-1, shape[0], channel_size))\n",
    "X_ = np.copy(X)"
   ]
  },
  {
   "cell_type": "code",
   "execution_count": 132,
   "metadata": {},
   "outputs": [
    {
     "name": "stdout",
     "output_type": "stream",
     "text": [
      "Epoch: 1/10, [Dx loss: -1.0679785013198853] [Dz loss: -2.0631730556488037] [E loss: 2.309176206588745] [G loss: 1.57382333278656]\n",
      "Epoch: 2/10, [Dx loss: -1.0897953510284424] [Dz loss: -1.960183024406433] [E loss: -0.9672163724899292] [G loss: -1.4504497051239014]\n",
      "Epoch: 3/10, [Dx loss: -1.0188275575637817] [Dz loss: -1.9359155893325806] [E loss: -1.2264163494110107] [G loss: -1.5807491540908813]\n",
      "Epoch: 4/10, [Dx loss: -0.946418046951294] [Dz loss: -1.934537649154663] [E loss: -0.550866425037384] [G loss: -0.8468795418739319]\n",
      "Epoch: 5/10, [Dx loss: -0.8689168691635132] [Dz loss: -1.8796818256378174] [E loss: 0.48949378728866577] [G loss: 0.2238738089799881]\n",
      "Epoch: 6/10, [Dx loss: -0.8203033208847046] [Dz loss: -1.8116134405136108] [E loss: 0.8664568066596985] [G loss: 0.6136610507965088]\n",
      "Epoch: 7/10, [Dx loss: -0.7826656699180603] [Dz loss: -1.6567052602767944] [E loss: 1.1663707494735718] [G loss: 0.9066742658615112]\n",
      "Epoch: 8/10, [Dx loss: -0.7510477304458618] [Dz loss: -1.6334844827651978] [E loss: 1.000230073928833] [G loss: 0.7616292834281921]\n",
      "Epoch: 9/10, [Dx loss: -0.7241255640983582] [Dz loss: -1.59100341796875] [E loss: 1.0780109167099] [G loss: 0.842929482460022]\n",
      "Epoch: 10/10, [Dx loss: -0.6998004913330078] [Dz loss: -1.5301072597503662] [E loss: 1.1855545043945312] [G loss: 0.9384253621101379]\n"
     ]
    }
   ],
   "source": [
    "epoch_e_loss = []    \n",
    "epoch_g_loss = []\n",
    "epoch_cx_loss = []\n",
    "epoch_cz_loss = []\n",
    "\n",
    "for epoch in range(1, epochs+1):\n",
    "    \n",
    "    np.random.shuffle(X_)\n",
    "    \n",
    "    minibatches_size = batch_size * n_critics  # 64*5 = 320 \n",
    "    num_minibatches = int(X_.shape[0] // minibatches_size)  # 12 \n",
    "    \n",
    "    encoder.trainable = False\n",
    "    generator.trainable = False\n",
    "    \n",
    "    for i in range(num_minibatches):\n",
    "        minibatch = X_[i * minibatches_size: (i + 1) * minibatches_size]\n",
    "        \n",
    "        # Number of Critics \n",
    "        for j in range(n_critics):\n",
    "            \n",
    "            x = minibatch[j * batch_size: (j + 1) * batch_size]\n",
    "            ## 임의의 신호를 만들어서 집어 넣어주는 단계 (GAN을 학습시키기 위해 존재함)\n",
    "            z = tf.random.normal(shape=(batch_size, latent_dim, channel_size), mean=0.0, stddev=1, dtype=tf.dtypes.float32, seed=1748)\n",
    "\n",
    "            \n",
    "            critic_x.trainable = True\n",
    "            critic_z.trainable = False\n",
    "            epoch_cx_loss.append(critic_x_train_on_batch(x, z))\n",
    "            critic_x.trainable = False\n",
    "            critic_z.trainable = True\n",
    "            epoch_cz_loss.append(critic_z_train_on_batch(x, z))\n",
    "        \n",
    "        critic_z.trainable = False\n",
    "        critic_x.trainable = False\n",
    "        encoder.trainable = True\n",
    "        generator.trainable = True\n",
    "        \n",
    "        enc_loss, gen_loss = enc_gen_train_on_batch(x, z)\n",
    "        epoch_e_loss.append(enc_loss)\n",
    "        epoch_g_loss.append(gen_loss)\n",
    "        \n",
    "    cx_loss = np.mean(np.array(epoch_cx_loss), axis=0)\n",
    "    cz_loss = np.mean(np.array(epoch_cz_loss), axis=0)\n",
    "    e_loss = np.mean(np.array(epoch_e_loss), axis=0)\n",
    "    g_loss = np.mean(np.array(epoch_g_loss), axis=0)\n",
    "    \n",
    "    print('Epoch: {}/{}, [Dx loss: {}] [Dz loss: {}] [E loss: {}] [G loss: {}]'.format(epoch, epochs, cx_loss, cz_loss, e_loss, g_loss))    "
   ]
  },
  {
   "cell_type": "markdown",
   "metadata": {},
   "source": [
    "# 재구축"
   ]
  },
  {
   "cell_type": "code",
   "execution_count": 133,
   "metadata": {},
   "outputs": [],
   "source": [
    "\n",
    "def reconstruction(X):\n",
    "    z_gen_ = encoder(X, training=False)\n",
    "    x_gen_ = generator(z_gen_, training=False)\n",
    "    X_critic = critic_x(x_gen_, training=False)\n",
    "    return x_gen_, X_critic\n",
    "\n",
    "X_gen, X_critic = reconstruction(X)\n",
    "\n",
    "final_scores = score_anomalies(X, X_gen, X_critic, rec_error_type=\"point\", comb=\"mult\")"
   ]
  },
  {
   "cell_type": "code",
   "execution_count": 134,
   "metadata": {},
   "outputs": [
    {
     "name": "stdout",
     "output_type": "stream",
     "text": [
      "(10221, 100, 1)\n",
      "(10221, 100, 1)\n",
      "(10320, 1)\n"
     ]
    }
   ],
   "source": [
    "print(X.shape)\n",
    "print(X_gen.shape)\n",
    "print(final_scores.shape)"
   ]
  },
  {
   "cell_type": "code",
   "execution_count": 138,
   "metadata": {},
   "outputs": [],
   "source": [
    "np.save('/home/rain/anomaly_detection/NYT/result/tadGAN_X.npy', X)\n",
    "np.save('/home/rain/anomaly_detection/NYT/result/tadGAN_X_gen.npy', X_gen)\n",
    "np.save('/home/rain/anomaly_detection/NYT/result/tadGAN_final.npy', final_scores)"
   ]
  },
  {
   "cell_type": "code",
   "execution_count": 137,
   "metadata": {},
   "outputs": [
    {
     "name": "stderr",
     "output_type": "stream",
     "text": [
      "/home/rain/anaconda3/envs/tf2/lib/python3.6/site-packages/pandas/plotting/_matplotlib/core.py:486: UserWarning: Attempted to set non-positive bottom ylim on a log-scaled axis.\n",
      "Invalid limit will be ignored.\n",
      "  ax.set_ylim(self.ylim)\n"
     ]
    },
    {
     "data": {
      "image/png": "[encoded data removed]",
      "text/plain": [
       "<Figure size 1152x648 with 1 Axes>"
      ]
     },
     "metadata": {
      "needs_background": "light"
     },
     "output_type": "display_data"
    }
   ],
   "source": [
    "scored = pd.DataFrame(index=new_time)\n",
    "scored['loss'] = final_scores[:]\n",
    "scored.plot(logy=True,  figsize=(16,9), ylim=[0,1e2], color=['blue','red', 'orange', 'green', 'magenta'])\n",
    "for st_ed_times in df_ano.values:\n",
    "    st = datetime.fromtimestamp(st_ed_times[0])\n",
    "    ed = datetime.fromtimestamp(st_ed_times[1])\n",
    "    plt.axvspan(st, ed, color='green', alpha=0.2)"
   ]
  },
  {
   "cell_type": "code",
   "execution_count": null,
   "metadata": {},
   "outputs": [],
   "source": []
  }
 ],
 "metadata": {
  "interpreter": {
   "hash": "90dfeaaf52637e96c99c46409827c11a32c0f92acf1de1204bfb76f6fca3df40"
  },
  "kernelspec": {
   "display_name": "Python 3.6.13 ('tf2': conda)",
   "language": "python",
   "name": "python3"
  },
  "language_info": {
   "codemirror_mode": {
    "name": "ipython",
    "version": 3
   },
   "file_extension": ".py",
   "mimetype": "text/x-python",
   "name": "python",
   "nbconvert_exporter": "python",
   "pygments_lexer": "ipython3",
   "version": "3.6.13"
  },
  "orig_nbformat": 4
 },
 "nbformat": 4,
 "nbformat_minor": 2
}
